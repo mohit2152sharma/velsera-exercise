{
  "nbformat": 4,
  "nbformat_minor": 0,
  "metadata": {
    "colab": {
      "provenance": [],
      "authorship_tag": "ABX9TyNb6FfX3vvR2iVPcrnWfbPV",
      "include_colab_link": true
    },
    "kernelspec": {
      "name": "python3",
      "display_name": "Python 3"
    },
    "language_info": {
      "name": "python"
    }
  },
  "cells": [
    {
      "cell_type": "markdown",
      "metadata": {
        "id": "view-in-github",
        "colab_type": "text"
      },
      "source": [
        "<a href=\"https://colab.research.google.com/github/mohit2152sharma/velsera-exercise/blob/main/experiments/finetuning.ipynb\" target=\"_parent\"><img src=\"https://colab.research.google.com/assets/colab-badge.svg\" alt=\"Open In Colab\"/></a>"
      ]
    },
    {
      "cell_type": "markdown",
      "source": [
        "### Notebook Environment Setup\n",
        "\n",
        "- Clone velsera-exersice repo if not present. This is required for local utils package\n",
        "- Install uv if not already installed\n",
        "- Install the velsera package locally in the virtunal environment created by uv"
      ],
      "metadata": {
        "id": "SVWGnH6PaZ3I"
      }
    },
    {
      "cell_type": "code",
      "execution_count": null,
      "metadata": {
        "colab": {
          "base_uri": "https://localhost:8080/"
        },
        "id": "KoDxKPg_ZOvO",
        "outputId": "6d51ad8b-22d0-408b-ea91-8f51dcb17352"
      },
      "outputs": [
        {
          "output_type": "stream",
          "name": "stdout",
          "text": [
            "directory already cloned, skipping\n",
            "Pulling the latest changes from remote\n",
            "uv is already installed, skipping\n"
          ]
        },
        {
          "output_type": "execute_result",
          "data": {
            "text/plain": [
              "0"
            ]
          },
          "metadata": {},
          "execution_count": 27
        }
      ],
      "source": [
        "import os\n",
        "\n",
        "REPO_NAME = 'velsera-exercise'\n",
        "\n",
        "if REPO_NAME in os.listdir():\n",
        "  print('directory already cloned, skipping')\n",
        "  print('Pulling the latest changes from remote')\n",
        "  es = os.system('cd velsera-exercise && git pull')\n",
        "  if es != 0:\n",
        "    raise ValueError('Failed to pull latest changes')\n",
        "else:\n",
        "  exit_status = os.system(f\"git clone https://github.com/mohit2152sharma/{REPO_NAME}.git\")\n",
        "  if exit_status == 0:\n",
        "    print('Cloned successfully')\n",
        "  else:\n",
        "    raise SystemError(f'Unable to clone the repo. Exit code: {exit_status}')\n",
        "\n",
        "if os.system('which uv') == 0:\n",
        "  print('uv is already installed, skipping')\n",
        "else:\n",
        "  print('installing uv')\n",
        "  os.system('curl -LsSf https://astral.sh/uv/install.sh | sh')\n",
        "\n",
        "# Install the velsera package\n",
        "os.system('cd velsera-exercise && uv pip install -e .')\n"
      ]
    },
    {
      "cell_type": "code",
      "source": [
        "!cd velsera-exercise/ && uv pip install -e ."
      ],
      "metadata": {
        "colab": {
          "base_uri": "https://localhost:8080/"
        },
        "id": "hmXF1bNgd4nv",
        "outputId": "f8c12e79-83ff-4041-c1c9-88cde479ff96"
      },
      "execution_count": null,
      "outputs": [
        {
          "output_type": "stream",
          "name": "stdout",
          "text": [
            "\u001b[2mUsing Python 3.11.12 environment at: /usr\u001b[0m\n",
            "\u001b[2K\u001b[2mResolved \u001b[1m17 packages\u001b[0m \u001b[2min 232ms\u001b[0m\u001b[0m\n",
            "\u001b[2K   \u001b[36m\u001b[1mBuilding\u001b[0m\u001b[39m velsera\u001b[2m @ file:///content/velsera-exercise\u001b[0m\n",
            "\u001b[2K\u001b[1A   \u001b[36m\u001b[1mBuilding\u001b[0m\u001b[39m velsera\u001b[2m @ file:///content/velsera-exercise\u001b[0m\n",
            "\u001b[2K\u001b[1A   \u001b[36m\u001b[1mBuilding\u001b[0m\u001b[39m velsera\u001b[2m @ file:///content/velsera-exercise\u001b[0m\n",
            "\u001b[2K\u001b[1A   \u001b[36m\u001b[1mBuilding\u001b[0m\u001b[39m velsera\u001b[2m @ file:///content/velsera-exercise\u001b[0m\n",
            "\u001b[2K\u001b[1A   \u001b[36m\u001b[1mBuilding\u001b[0m\u001b[39m velsera\u001b[2m @ file:///content/velsera-exercise\u001b[0m\n",
            "\u001b[2K\u001b[1A   \u001b[36m\u001b[1mBuilding\u001b[0m\u001b[39m velsera\u001b[2m @ file:///content/velsera-exercise\u001b[0m\n",
            "\u001b[2K\u001b[1A   \u001b[36m\u001b[1mBuilding\u001b[0m\u001b[39m velsera\u001b[2m @ file:///content/velsera-exercise\u001b[0m\n",
            "\u001b[2K\u001b[1A   \u001b[36m\u001b[1mBuilding\u001b[0m\u001b[39m velsera\u001b[2m @ file:///content/velsera-exercise\u001b[0m\n",
            "\u001b[2K\u001b[1A      \u001b[32m\u001b[1mBuilt\u001b[0m\u001b[39m velsera\u001b[2m @ file:///content/velsera-exercise\u001b[0m\n",
            "\u001b[2K\u001b[2mPrepared \u001b[1m1 package\u001b[0m \u001b[2min 1.41s\u001b[0m\u001b[0m\n",
            "\u001b[2mUninstalled \u001b[1m1 package\u001b[0m \u001b[2min 0.50ms\u001b[0m\u001b[0m\n",
            "\u001b[2K\u001b[2mInstalled \u001b[1m1 package\u001b[0m \u001b[2min 1ms\u001b[0m\u001b[0m\n",
            " \u001b[33m~\u001b[39m \u001b[1mvelsera\u001b[0m\u001b[2m==0.1.0 (from file:///content/velsera-exercise)\u001b[0m\n"
          ]
        }
      ]
    },
    {
      "cell_type": "code",
      "source": [
        "import velsera"
      ],
      "metadata": {
        "colab": {
          "base_uri": "https://localhost:8080/",
          "height": 322
        },
        "id": "Mb4yd0mvd7Va",
        "outputId": "407d4500-19b9-413f-b5e1-9d498ce4eb07"
      },
      "execution_count": null,
      "outputs": [
        {
          "output_type": "error",
          "ename": "ModuleNotFoundError",
          "evalue": "No module named 'velsera'",
          "traceback": [
            "\u001b[0;31m---------------------------------------------------------------------------\u001b[0m",
            "\u001b[0;31mModuleNotFoundError\u001b[0m                       Traceback (most recent call last)",
            "\u001b[0;32m<ipython-input-31-45550cc16fcf>\u001b[0m in \u001b[0;36m<cell line: 0>\u001b[0;34m()\u001b[0m\n\u001b[0;32m----> 1\u001b[0;31m \u001b[0;32mimport\u001b[0m \u001b[0mvelsera\u001b[0m\u001b[0;34m\u001b[0m\u001b[0;34m\u001b[0m\u001b[0m\n\u001b[0m",
            "\u001b[0;31mModuleNotFoundError\u001b[0m: No module named 'velsera'",
            "",
            "\u001b[0;31m---------------------------------------------------------------------------\u001b[0;32m\nNOTE: If your import is failing due to a missing package, you can\nmanually install dependencies using either !pip or !apt.\n\nTo view examples of installing some common dependencies, click the\n\"Open Examples\" button below.\n\u001b[0;31m---------------------------------------------------------------------------\u001b[0m\n"
          ],
          "errorDetails": {
            "actions": [
              {
                "action": "open_url",
                "actionText": "Open Examples",
                "url": "/notebooks/snippets/importing_libraries.ipynb"
              }
            ]
          }
        }
      ]
    },
    {
      "cell_type": "code",
      "source": [
        "os.listdir()"
      ],
      "metadata": {
        "colab": {
          "base_uri": "https://localhost:8080/"
        },
        "id": "0JiDH_jUd80T",
        "outputId": "e3dd02e5-9bb0-4525-e8fb-6ec006017cb4"
      },
      "execution_count": null,
      "outputs": [
        {
          "output_type": "execute_result",
          "data": {
            "text/plain": [
              "['.config', 'velsera-exercise', 'sample_data']"
            ]
          },
          "metadata": {},
          "execution_count": 18
        }
      ]
    },
    {
      "cell_type": "code",
      "source": [
        "!cd velsera-exercise && git pull --rebase"
      ],
      "metadata": {
        "colab": {
          "base_uri": "https://localhost:8080/"
        },
        "id": "-UJ1CdZDd-4s",
        "outputId": "941b2ed7-ebdc-4ce3-b05b-36b0582949d3"
      },
      "execution_count": null,
      "outputs": [
        {
          "output_type": "stream",
          "name": "stdout",
          "text": [
            "\r\u001b[KSuccessfully rebased and updated refs/heads/main.\n"
          ]
        }
      ]
    },
    {
      "cell_type": "code",
      "source": [
        "os.listdir()"
      ],
      "metadata": {
        "colab": {
          "base_uri": "https://localhost:8080/"
        },
        "id": "8T5h1s_OeF0m",
        "outputId": "3ca49afe-5f17-4fe0-c73a-034a2281aec6"
      },
      "execution_count": null,
      "outputs": [
        {
          "output_type": "execute_result",
          "data": {
            "text/plain": [
              "['.config', 'velsera-exercise', 'sample_data']"
            ]
          },
          "metadata": {},
          "execution_count": 20
        }
      ]
    },
    {
      "cell_type": "code",
      "source": [],
      "metadata": {
        "id": "LyM_yKT7eHg7"
      },
      "execution_count": null,
      "outputs": []
    }
  ]
}